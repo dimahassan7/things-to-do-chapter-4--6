{
 "cells": [
  {
   "cell_type": "markdown",
   "id": "6f5af2b2-3e0c-4679-99ef-834f78f65290",
   "metadata": {},
   "source": [
    "# Choose a number between 1 and 10 and assign it to the variable secret.\n"
   ]
  },
  {
   "cell_type": "code",
   "execution_count": 5,
   "id": "04974c34-5a2e-4d81-9196-56aec8178313",
   "metadata": {},
   "outputs": [],
   "source": [
    "secret = 6 "
   ]
  },
  {
   "cell_type": "markdown",
   "id": "66eb186d-30b8-477c-89b2-d91fbdd3c1ab",
   "metadata": {},
   "source": [
    "# select another number between 1 and 10 and assign it to the variable guess."
   ]
  },
  {
   "cell_type": "code",
   "execution_count": 6,
   "id": "a4cd113e-cb0a-44c9-bb2a-d5412c1d620c",
   "metadata": {},
   "outputs": [],
   "source": [
    "guess = 8"
   ]
  },
  {
   "cell_type": "code",
   "execution_count": 7,
   "id": "a894604e-41c4-41c3-8340-8bb0ac4489d5",
   "metadata": {},
   "outputs": [
    {
     "name": "stdout",
     "output_type": "stream",
     "text": [
      "too high\n"
     ]
    }
   ],
   "source": [
    "if guess < secret:\n",
    "    print('too low')\n",
    "elif guess > secret:\n",
    "    print('too high')\n",
    "else:  \n",
    "    print('just right')\n"
   ]
  },
  {
   "cell_type": "code",
   "execution_count": null,
   "id": "2ee493d4-c625-4bbe-acc7-c03ef8bcb6f7",
   "metadata": {},
   "outputs": [],
   "source": []
  },
  {
   "cell_type": "code",
   "execution_count": null,
   "id": "067f0fd8-819e-454c-a565-e0fa26d4072c",
   "metadata": {},
   "outputs": [],
   "source": []
  },
  {
   "cell_type": "code",
   "execution_count": null,
   "id": "1f82b1c7-7e16-409c-9cd9-0944ca47eb2c",
   "metadata": {},
   "outputs": [],
   "source": []
  }
 ],
 "metadata": {
  "kernelspec": {
   "display_name": "Python 3 (ipykernel)",
   "language": "python",
   "name": "python3"
  },
  "language_info": {
   "codemirror_mode": {
    "name": "ipython",
    "version": 3
   },
   "file_extension": ".py",
   "mimetype": "text/x-python",
   "name": "python",
   "nbconvert_exporter": "python",
   "pygments_lexer": "ipython3",
   "version": "3.11.2"
  }
 },
 "nbformat": 4,
 "nbformat_minor": 5
}
