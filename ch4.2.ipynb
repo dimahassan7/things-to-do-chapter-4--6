{
 "cells": [
  {
   "cell_type": "markdown",
   "id": "cd4bb9c8-2416-4788-b0bf-370442b6aa2e",
   "metadata": {},
   "source": [
    "# 4.2 Assign True or False to the variables small and green.\n"
   ]
  },
  {
   "cell_type": "code",
   "execution_count": 1,
   "id": "99f1af5a-1542-47f2-9b5a-a9cdd1031a29",
   "metadata": {},
   "outputs": [],
   "source": [
    "small = True\n",
    "green = False"
   ]
  },
  {
   "cell_type": "markdown",
   "id": "350baedb-256d-4986-8a9c-1b61ce9ffcac",
   "metadata": {},
   "source": [
    "# Write some if/else statements.\n",
    "# cherry, pea, watermelon, pumpkin.\n"
   ]
  },
  {
   "cell_type": "code",
   "execution_count": 2,
   "id": "39e1e417-a684-489c-8ffc-7d79c283a5d8",
   "metadata": {},
   "outputs": [
    {
     "name": "stdout",
     "output_type": "stream",
     "text": [
      "cherry\n"
     ]
    }
   ],
   "source": [
    "\n",
    "if small and green:\n",
    "    print('pea')\n",
    "elif small and not green:\n",
    "    print('cherry')\n",
    "elif not small and green:\n",
    "    print('watermelon')\n",
    "else: \n",
    "    print('pumpkin')"
   ]
  },
  {
   "cell_type": "code",
   "execution_count": null,
   "id": "1af2d3c5-73f9-4243-be85-4bf88ded819d",
   "metadata": {},
   "outputs": [],
   "source": []
  },
  {
   "cell_type": "code",
   "execution_count": null,
   "id": "4b6f2df8-df54-4c38-a02f-b06961f993f7",
   "metadata": {},
   "outputs": [],
   "source": []
  }
 ],
 "metadata": {
  "kernelspec": {
   "display_name": "Python 3 (ipykernel)",
   "language": "python",
   "name": "python3"
  },
  "language_info": {
   "codemirror_mode": {
    "name": "ipython",
    "version": 3
   },
   "file_extension": ".py",
   "mimetype": "text/x-python",
   "name": "python",
   "nbconvert_exporter": "python",
   "pygments_lexer": "ipython3",
   "version": "3.11.2"
  }
 },
 "nbformat": 4,
 "nbformat_minor": 5
}
