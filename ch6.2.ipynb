{
 "cells": [
  {
   "cell_type": "markdown",
   "id": "392f92c2-83a5-4499-ad4b-6642d27771b0",
   "metadata": {},
   "source": [
    "# Assign the value 7 to the variable guess_me, and the value 1 to the variable number. Write a while loop that compares number with guess_me."
   ]
  },
  {
   "cell_type": "code",
   "execution_count": 4,
   "id": "ccdaf077-7b6d-442c-9e61-db260684e631",
   "metadata": {},
   "outputs": [],
   "source": [
    "guess_me = 7\n",
    "number = 1"
   ]
  },
  {
   "cell_type": "code",
   "execution_count": null,
   "id": "8df4e895-6cb8-4d6a-ba0e-cdc02323f723",
   "metadata": {},
   "outputs": [],
   "source": []
  },
  {
   "cell_type": "markdown",
   "id": "5929eeb6-5805-4657-954d-33c17e3b84e7",
   "metadata": {},
   "source": [
    "# This creates an infinite loop\n"
   ]
  },
  {
   "cell_type": "code",
   "execution_count": 2,
   "id": "7ae22fd6-a256-4d61-a6ea-e98013e93aef",
   "metadata": {},
   "outputs": [
    {
     "name": "stdout",
     "output_type": "stream",
     "text": [
      "too low\n",
      "too low\n",
      "too low\n",
      "too low\n",
      "too low\n",
      "too low\n",
      "found it!\n"
     ]
    }
   ],
   "source": [
    "while True:  \n",
    "    if number < guess_me:\n",
    "        print('too low')\n",
    "    elif number == guess_me:\n",
    "        print('found it!')\n",
    "        break \n",
    "    else: \n",
    "        print('oops')\n",
    "        break \n",
    "    \n",
    "    number += 1 "
   ]
  },
  {
   "cell_type": "code",
   "execution_count": null,
   "id": "6c42fa18-b639-46d5-9c23-60b953912992",
   "metadata": {},
   "outputs": [],
   "source": []
  }
 ],
 "metadata": {
  "kernelspec": {
   "display_name": "Python 3 (ipykernel)",
   "language": "python",
   "name": "python3"
  },
  "language_info": {
   "codemirror_mode": {
    "name": "ipython",
    "version": 3
   },
   "file_extension": ".py",
   "mimetype": "text/x-python",
   "name": "python",
   "nbconvert_exporter": "python",
   "pygments_lexer": "ipython3",
   "version": "3.11.2"
  }
 },
 "nbformat": 4,
 "nbformat_minor": 5
}
