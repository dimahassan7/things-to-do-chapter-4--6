{
 "cells": [
  {
   "cell_type": "markdown",
   "id": "8633b13f-2194-4681-81e6-402a0d76308f",
   "metadata": {},
   "source": [
    "# Assign the value 5 to the variable guess_me.\n"
   ]
  },
  {
   "cell_type": "code",
   "execution_count": 1,
   "id": "7d908abe-b9b0-45d9-bfda-07c22f2379da",
   "metadata": {},
   "outputs": [],
   "source": [
    "guess_me = 5\n"
   ]
  },
  {
   "cell_type": "markdown",
   "id": "1f21254f-ef69-4bfd-a8b4-0d7e1353261c",
   "metadata": {},
   "source": [
    "# Use a for loop to iterate a variable called number over range(10)."
   ]
  },
  {
   "cell_type": "code",
   "execution_count": null,
   "id": "58e63ce8-2bb8-498a-baa0-7f8207739cbc",
   "metadata": {},
   "outputs": [],
   "source": [
    "for number in range(10):\n",
    "    if number < guess_me:\n",
    "        "
   ]
  },
  {
   "cell_type": "markdown",
   "id": "20948994-7fd8-41ec-9f10-50da7762a0bc",
   "metadata": {},
   "source": []
  },
  {
   "cell_type": "code",
   "execution_count": null,
   "id": "a1eafe9a-fb63-4d0b-a0d9-78b3803cdfbe",
   "metadata": {},
   "outputs": [],
   "source": [
    "        print('too low')\n",
    "    elif number == guess_me:\n",
    "       "
   ]
  },
  {
   "cell_type": "markdown",
   "id": "2f257cfd-49fe-4aad-8397-763c21c81192",
   "metadata": {},
   "source": []
  },
  {
   "cell_type": "markdown",
   "id": "063001ec-9530-49a6-b472-acbcf63f5d3e",
   "metadata": {},
   "source": [
    "\n",
    "   "
   ]
  },
  {
   "cell_type": "code",
   "execution_count": null,
   "id": "b48a78d7-5edf-4656-90c4-ec601b56c34b",
   "metadata": {},
   "outputs": [],
   "source": []
  },
  {
   "cell_type": "code",
   "execution_count": null,
   "id": "8296881f-a517-4c18-8abd-ef931f9ab2b5",
   "metadata": {},
   "outputs": [],
   "source": [
    "       "
   ]
  },
  {
   "cell_type": "code",
   "execution_count": null,
   "id": "7ccc872d-bc97-4abe-ab82-39d131a1f19a",
   "metadata": {},
   "outputs": [],
   "source": []
  }
 ],
 "metadata": {
  "kernelspec": {
   "display_name": "Python 3 (ipykernel)",
   "language": "python",
   "name": "python3"
  },
  "language_info": {
   "codemirror_mode": {
    "name": "ipython",
    "version": 3
   },
   "file_extension": ".py",
   "mimetype": "text/x-python",
   "name": "python",
   "nbconvert_exporter": "python",
   "pygments_lexer": "ipython3",
   "version": "3.11.2"
  }
 },
 "nbformat": 4,
 "nbformat_minor": 5
}
